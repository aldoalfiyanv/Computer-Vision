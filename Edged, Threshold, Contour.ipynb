{
 "cells": [
  {
   "cell_type": "code",
   "execution_count": 2,
   "metadata": {},
   "outputs": [
    {
     "data": {
      "text/plain": [
       "<function destroyAllWindows>"
      ]
     },
     "execution_count": 2,
     "metadata": {},
     "output_type": "execute_result"
    }
   ],
   "source": [
    "import cv2\n",
    "#Edged\n",
    "img = cv2.imread('Penguins.jpg')\n",
    "gray=cv2.cvtColor(img,cv2.COLOR_BGR2GRAY) \n",
    "img_resize = cv2.resize(gray,(640,480))\n",
    "edged = cv2.Canny(img_resize,230,250)\n",
    "\n",
    "cv2.imshow(\"Original Image\",img)\n",
    "cv2.imshow(\"Original Hitam Putih\",img_resize)\n",
    "cv2.imshow(\"Edged Image\",edged)\n",
    "\n",
    "cv2.waitKey(0)\n",
    "cv2.destroyAllWindows"
   ]
  },
  {
   "cell_type": "code",
   "execution_count": 12,
   "metadata": {},
   "outputs": [],
   "source": [
    "import cv2 \n",
    "#Threshold\n",
    "img = cv2.imread('Penguins.jpg')\n",
    "gray=cv2.cvtColor(img,cv2.COLOR_BGR2GRAY)                \n",
    "ret,thresh1 = cv2.threshold(gray,127,255,cv2.THRESH_BINARY)\n",
    "ret,thresh2 = cv2.threshold(gray,127,255,cv2.THRESH_BINARY_INV)\n",
    "ret,thresh3 = cv2.threshold(gray,127,255,cv2.THRESH_TRUNC)\n",
    "ret,thresh4 = cv2.threshold(gray,127,255,cv2.THRESH_TOZERO)\n",
    "ret,thresh5 = cv2.threshold(gray,127,255,cv2.THRESH_TOZERO_INV)\n",
    "\n",
    "cv2.imshow(\"Original Image\",img)\n",
    "cv2.imshow(\"BINARY\", thresh1)\n",
    "cv2.imshow(\"BINARY_INV\",thresh2)\n",
    "cv2.imshow(\"TRUNC\",thresh3)\n",
    "cv2.imshow(\"TOZERO\",thresh4)\n",
    "cv2.imshow(\"TOZERO_INV\",thresh5)\n",
    "\n",
    "\n",
    "cv2.waitKey(0)\n",
    "cv2.destroyAllWindows()"
   ]
  },
  {
   "cell_type": "code",
   "execution_count": 16,
   "metadata": {},
   "outputs": [],
   "source": [
    "import cv2 as cv\n",
    "import numpy as np\n",
    "\n",
    "img = cv2.imread('Penguins.jpg')\n",
    "\n",
    "gray=cv2.cvtColor(img,cv2.COLOR_BGR2GRAY)\n",
    "# global thresholding\n",
    "ret1,th1 = cv2.threshold(gray,127,255,cv2.THRESH_BINARY)\n",
    "# Otsu's thresholding\n",
    "ret2,th2 = cv2.threshold(gray,0,255,cv2.THRESH_BINARY+cv2.THRESH_OTSU)\n",
    "# Otsu's thresholding after Gaussian filtering\n",
    "blur = cv2.GaussianBlur(gray,(5,5),0)\n",
    "ret3,th3 = cv2.threshold(blur,0,255,cv2.THRESH_BINARY+cv2.THRESH_OTSU)\n",
    "\n",
    "cv2.imshow(\"Original Image\",img)\n",
    "cv2.imshow(\"global thresholding\", th1)\n",
    "cv2.imshow(\"Otsu's thresholding\",th2)\n",
    "cv2.imshow(\"Otsu's thresholding after Gaussian filtering\",th3)\n",
    "\n",
    "\n",
    "cv2.waitKey(0)\n",
    "cv2.destroyAllWindows()\n"
   ]
  },
  {
   "cell_type": "code",
   "execution_count": 3,
   "metadata": {},
   "outputs": [],
   "source": [
    "#Contour\n",
    "import numpy as np\n",
    "import cv2 as cv\n",
    "\n",
    "img = cv2.imread('Penguins.jpg')\n",
    "\n",
    "gray = cv2.cvtColor(img, cv2.COLOR_BGR2GRAY)\n",
    "\n",
    "ret, thresh = cv2.threshold(gray, 127, 255, 0)\n",
    "contours, hierarchy = cv2.findContours(thresh.copy(), cv2.RETR_EXTERNAL, cv2.CHAIN_APPROX_NONE)\n",
    "\n",
    "cv2.imshow(\"Contour\",img)\n",
    "cv2.imshow(\"thresholding\", thresh)\n",
    "\n",
    "cv2.waitKey(0)\n",
    "cv2.destroyAllWindows()\n"
   ]
  },
  {
   "cell_type": "code",
   "execution_count": null,
   "metadata": {},
   "outputs": [],
   "source": []
  },
  {
   "cell_type": "code",
   "execution_count": null,
   "metadata": {},
   "outputs": [],
   "source": []
  }
 ],
 "metadata": {
  "kernelspec": {
   "display_name": "Python 3",
   "language": "python",
   "name": "python3"
  },
  "language_info": {
   "codemirror_mode": {
    "name": "ipython",
    "version": 3
   },
   "file_extension": ".py",
   "mimetype": "text/x-python",
   "name": "python",
   "nbconvert_exporter": "python",
   "pygments_lexer": "ipython3",
   "version": "3.7.4"
  }
 },
 "nbformat": 4,
 "nbformat_minor": 4
}
