{
 "cells": [
  {
   "cell_type": "code",
   "execution_count": 19,
   "metadata": {},
   "outputs": [],
   "source": [
    "import cv2\n",
    "import numpy as np\n",
    "\n",
    "#load image\n",
    "img = cv2.imread('block.png')\n",
    "\n",
    "#convert to hsv\n",
    "hsv=cv2.cvtColor(img,cv2.COLOR_BGR2HSV)\n",
    "\n",
    "#define range of blue color in hsv\n",
    "lower_blue=np.array([110,50,50])\n",
    "upper_blue=np.array([130,255,255])\n",
    "\n",
    "#define range of red color in hsv\n",
    "lower_red=np.array([0,155,128])\n",
    "upper_red=np.array([0,255,255])\n",
    "\n",
    "#define range of green color in hsv\n",
    "lower_green=np.array([60,100,120])\n",
    "upper_green=np.array([60,255,255])\n",
    "\n",
    "#threshold the hsv image to get only blue colors\n",
    "mask_blue=cv2.inRange(hsv.copy(),lower_blue,upper_blue)\n",
    "mask_red=cv2.inRange(hsv.copy(),lower_red,upper_red)\n",
    "mask_green=cv2.inRange(hsv.copy(),lower_green,upper_green)\n",
    "\n",
    "mask=mask_blue+mask_red+mask_green\n",
    "res=cv2.bitwise_and(img,img,mask=mask)\n",
    "\n",
    "cv2.imshow(\"frame\",img)\n",
    "cv2.imshow(\"res\",res)\n",
    "\n",
    "cv2.waitKey(0)\n",
    "cv2.destroyAllWindows()\n"
   ]
  },
  {
   "cell_type": "code",
   "execution_count": null,
   "metadata": {},
   "outputs": [],
   "source": []
  }
 ],
 "metadata": {
  "kernelspec": {
   "display_name": "Python 3",
   "language": "python",
   "name": "python3"
  },
  "language_info": {
   "codemirror_mode": {
    "name": "ipython",
    "version": 3
   },
   "file_extension": ".py",
   "mimetype": "text/x-python",
   "name": "python",
   "nbconvert_exporter": "python",
   "pygments_lexer": "ipython3",
   "version": "3.7.4"
  }
 },
 "nbformat": 4,
 "nbformat_minor": 4
}
